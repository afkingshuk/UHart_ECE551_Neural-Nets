{
  "cells": [
    {
      "cell_type": "markdown",
      "metadata": {
        "id": "x7xey8CW7mLS"
      },
      "source": [
        "## Set up Environment"
      ]
    },
    {
      "cell_type": "code",
      "execution_count": 45,
      "metadata": {
        "id": "VIhDpaMZ7tUT"
      },
      "outputs": [],
      "source": [
        "# imports for array-handling and plotting\n",
        "import numpy as np\n",
        "import matplotlib\n",
        "matplotlib.use('agg')\n",
        "import matplotlib.pyplot as plt\n",
        "\n",
        "# import keras\n",
        "from keras.datasets import mnist\n",
        "from keras.models import Sequential, load_model\n",
        "from keras.layers import Dense, Dropout, Activation\n"
      ]
    },
    {
      "cell_type": "code",
      "execution_count": 46,
      "metadata": {
        "id": "I8xaub1m7_dA"
      },
      "outputs": [],
      "source": [
        "(x_train, y_train), (x_test, y_test) = mnist.load_data()"
      ]
    },
    {
      "cell_type": "code",
      "execution_count": 47,
      "metadata": {
        "id": "gxhV-a0z858Y",
        "colab": {
          "base_uri": "https://localhost:8080/",
          "height": 463
        },
        "outputId": "6c44f793-dfb9-4cd6-8d68-fd88be1672dd"
      },
      "outputs": [
        {
          "output_type": "execute_result",
          "data": {
            "text/plain": [
              "<Figure size 640x480 with 9 Axes>"
            ],
            "image/png": "[encoded data removed]"
          },
          "metadata": {},
          "execution_count": 47
        }
      ],
      "source": [
        "# Plot the MNIST data\n",
        "fig = plt.figure()\n",
        "for i in range(9):\n",
        "  plt.subplot(3,3,i+1)\n",
        "  plt.tight_layout()\n",
        "  plt.imshow(x_train[i], cmap='gray', interpolation='none')\n",
        "  plt.title(\"Digit: {}\".format(y_train[i]))\n",
        "  plt.xticks([])\n",
        "  plt.yticks([])\n",
        "fig"
      ]
    },
    {
      "cell_type": "code",
      "execution_count": 48,
      "metadata": {
        "id": "uDvEc-u09MGe",
        "colab": {
          "base_uri": "https://localhost:8080/"
        },
        "outputId": "784a4eac-f404-4bcd-e3f6-52b3cc1edfe8"
      },
      "outputs": [
        {
          "output_type": "stream",
          "name": "stdout",
          "text": [
            "(60000, 28, 28)\n",
            "(10000, 28, 28)\n"
          ]
        }
      ],
      "source": [
        "#Let’s verify the sizes of the training and testing datasets:\n",
        "print(x_train.shape)\n",
        "print(x_test.shape)"
      ]
    },
    {
      "cell_type": "code",
      "execution_count": 49,
      "metadata": {
        "id": "Nvzk7Pm597FP",
        "colab": {
          "base_uri": "https://localhost:8080/"
        },
        "outputId": "b8d1d8b2-6d6e-4048-973e-9bdf0ff0ddee"
      },
      "outputs": [
        {
          "output_type": "stream",
          "name": "stdout",
          "text": [
            "(60000,)\n"
          ]
        }
      ],
      "source": [
        "# Print the labels\n",
        "print(y_train.shape)"
      ]
    },
    {
      "cell_type": "markdown",
      "metadata": {
        "id": "HWmWcQuK-5jV"
      },
      "source": [
        "## Cleaning the data\n",
        "# Reshape the dataset for Keras model\n"
      ]
    },
    {
      "cell_type": "code",
      "execution_count": 50,
      "metadata": {
        "id": "GtDgGvQ9_Els",
        "colab": {
          "base_uri": "https://localhost:8080/"
        },
        "outputId": "50d8a241-1cf1-4303-b7ee-0e1e5d0272df"
      },
      "outputs": [
        {
          "output_type": "execute_result",
          "data": {
            "text/plain": [
              "(60000, 784)"
            ]
          },
          "metadata": {},
          "execution_count": 50
        }
      ],
      "source": [
        "# save input image dimensions\n",
        "img_rows, img_cols = 28, 28\n",
        "\n",
        "# 1 * M * N to M * N * 1\n",
        "x_train = x_train.reshape(x_train.shape[0], img_rows*img_cols)\n",
        "x_test = x_test.reshape(x_test.shape[0], img_rows*img_cols)\n",
        "\n",
        "x_train.shape\n"
      ]
    },
    {
      "cell_type": "code",
      "execution_count": 51,
      "metadata": {
        "id": "yaYSXByp_wf0",
        "colab": {
          "base_uri": "https://localhost:8080/"
        },
        "outputId": "c5403fba-f413-4809-8db0-5bc441a5eb7f"
      },
      "outputs": [
        {
          "output_type": "execute_result",
          "data": {
            "text/plain": [
              "(60000, 784)"
            ]
          },
          "metadata": {},
          "execution_count": 51
        }
      ],
      "source": [
        "#Normalize\n",
        "# Change Pixel vaues to the range [0,1]\n",
        "x_train = x_train.astype(np.float64)\n",
        "x_test = x_test.astype(np.float64)\n",
        "x_train /= 255.0\n",
        "x_test /= 255.0\n",
        "\n",
        "\n",
        "x_train.shape"
      ]
    },
    {
      "cell_type": "code",
      "execution_count": 52,
      "metadata": {
        "id": "TvScYDfTjRjW",
        "colab": {
          "base_uri": "https://localhost:8080/"
        },
        "outputId": "88ecd688-5a5d-4eab-9115-e28959b27aa3"
      },
      "outputs": [
        {
          "output_type": "execute_result",
          "data": {
            "text/plain": [
              "(60000, 10)"
            ]
          },
          "metadata": {},
          "execution_count": 52
        }
      ],
      "source": [
        "# change y_train to a binary class matrix\n",
        "from keras.utils import to_categorical\n",
        "num_classes = 10\n",
        "\n",
        "\n",
        "y_train = to_categorical(y_train, num_classes)\n",
        "y_test = to_categorical(y_test, num_classes)\n",
        "\n",
        "y_train.shape\n",
        "\n",
        "\n"
      ]
    },
    {
      "cell_type": "markdown",
      "metadata": {
        "id": "6WVDiKZ6BWC1"
      },
      "source": [
        "## Design our Neural Network"
      ]
    },
    {
      "cell_type": "code",
      "source": [
        "model = Sequential()\n",
        "\n",
        "# build or add layers into this model\n",
        "model.add(Dense(500, input_dim=28*28))\n",
        "model.add(Activation('sigmoid'))\n",
        "model.add(Dense(500))\n",
        "model.add(Activation('sigmoid'))\n",
        "\n",
        "# output Layer\n",
        "model.add(Dense(10))\n",
        "model.add(Activation('softmax'))\n",
        "\n",
        "#\n",
        "print(model.summary())\n"
      ],
      "metadata": {
        "colab": {
          "base_uri": "https://localhost:8080/"
        },
        "id": "6QpVohiB_x8A",
        "outputId": "392db4bd-908e-4515-a734-ec82a5d22cda"
      },
      "execution_count": 53,
      "outputs": [
        {
          "output_type": "stream",
          "name": "stdout",
          "text": [
            "Model: \"sequential_6\"\n",
            "_________________________________________________________________\n",
            " Layer (type)                Output Shape              Param #   \n",
            "=================================================================\n",
            " dense_16 (Dense)            (None, 500)               392500    \n",
            "                                                                 \n",
            " activation_15 (Activation)  (None, 500)               0         \n",
            "                                                                 \n",
            " dense_17 (Dense)            (None, 500)               250500    \n",
            "                                                                 \n",
            " activation_16 (Activation)  (None, 500)               0         \n",
            "                                                                 \n",
            " dense_18 (Dense)            (None, 10)                5010      \n",
            "                                                                 \n",
            " activation_17 (Activation)  (None, 10)                0         \n",
            "                                                                 \n",
            "=================================================================\n",
            "Total params: 648010 (2.47 MB)\n",
            "Trainable params: 648010 (2.47 MB)\n",
            "Non-trainable params: 0 (0.00 Byte)\n",
            "_________________________________________________________________\n",
            "None\n"
          ]
        }
      ]
    },
    {
      "cell_type": "code",
      "source": [
        "# Step 2, Define Loss function\n",
        "\n",
        "model.compile(loss = 'categorical_crossentropy', optimizer='adam', metrics=['accuracy'])\n"
      ],
      "metadata": {
        "id": "ZiCcf8tr_45W"
      },
      "execution_count": 54,
      "outputs": []
    },
    {
      "cell_type": "code",
      "source": [
        "# Step 3, find the optimal params of neural network using gradient descent\n",
        "model.fit(x_train,y_train, batch_size =100, epochs =10)\n"
      ],
      "metadata": {
        "colab": {
          "base_uri": "https://localhost:8080/"
        },
        "id": "d6P1dtBlANSR",
        "outputId": "27cdd0a9-a322-4eae-fc80-a558b2346a44"
      },
      "execution_count": 55,
      "outputs": [
        {
          "output_type": "stream",
          "name": "stdout",
          "text": [
            "Epoch 1/10\n",
            "600/600 [==============================] - 11s 16ms/step - loss: 0.4584 - accuracy: 0.8669\n",
            "Epoch 2/10\n",
            "600/600 [==============================] - 10s 16ms/step - loss: 0.2032 - accuracy: 0.9389\n",
            "Epoch 3/10\n",
            "600/600 [==============================] - 11s 18ms/step - loss: 0.1457 - accuracy: 0.9561\n",
            "Epoch 4/10\n",
            "600/600 [==============================] - 9s 15ms/step - loss: 0.1084 - accuracy: 0.9675\n",
            "Epoch 5/10\n",
            "600/600 [==============================] - 9s 14ms/step - loss: 0.0825 - accuracy: 0.9743\n",
            "Epoch 6/10\n",
            "600/600 [==============================] - 9s 16ms/step - loss: 0.0648 - accuracy: 0.9802\n",
            "Epoch 7/10\n",
            "600/600 [==============================] - 9s 16ms/step - loss: 0.0499 - accuracy: 0.9844\n",
            "Epoch 8/10\n",
            "600/600 [==============================] - 8s 14ms/step - loss: 0.0398 - accuracy: 0.9878\n",
            "Epoch 9/10\n",
            "600/600 [==============================] - 10s 16ms/step - loss: 0.0321 - accuracy: 0.9897\n",
            "Epoch 10/10\n",
            "600/600 [==============================] - 9s 16ms/step - loss: 0.0241 - accuracy: 0.9929\n"
          ]
        },
        {
          "output_type": "execute_result",
          "data": {
            "text/plain": [
              "<keras.src.callbacks.History at 0x7d38893a4c70>"
            ]
          },
          "metadata": {},
          "execution_count": 55
        }
      ]
    },
    {
      "cell_type": "code",
      "source": [
        "model.evaluate(x_test,y_test)"
      ],
      "metadata": {
        "colab": {
          "base_uri": "https://localhost:8080/"
        },
        "id": "tYLx1O-dBUF0",
        "outputId": "c4b07b50-293c-476e-db77-460ce6c0db53"
      },
      "execution_count": 56,
      "outputs": [
        {
          "output_type": "stream",
          "name": "stdout",
          "text": [
            "313/313 [==============================] - 1s 4ms/step - loss: 0.0810 - accuracy: 0.9773\n"
          ]
        },
        {
          "output_type": "execute_result",
          "data": {
            "text/plain": [
              "[0.08102435618638992, 0.9772999882698059]"
            ]
          },
          "metadata": {},
          "execution_count": 56
        }
      ]
    }
  ],
  "metadata": {
    "colab": {
      "provenance": []
    },
    "kernelspec": {
      "display_name": "Python 3 (ipykernel)",
      "language": "python",
      "name": "python3"
    },
    "language_info": {
      "codemirror_mode": {
        "name": "ipython",
        "version": 3
      },
      "file_extension": ".py",
      "mimetype": "text/x-python",
      "name": "python",
      "nbconvert_exporter": "python",
      "pygments_lexer": "ipython3",
      "version": "3.9.13"
    }
  },
  "nbformat": 4,
  "nbformat_minor": 0
}