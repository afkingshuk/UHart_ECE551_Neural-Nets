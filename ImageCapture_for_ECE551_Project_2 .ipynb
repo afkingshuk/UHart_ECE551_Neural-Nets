{
  "nbformat": 4,
  "nbformat_minor": 0,
  "metadata": {
    "colab": {
      "provenance": []
    },
    "kernelspec": {
      "name": "python3",
      "display_name": "Python 3"
    },
    "language_info": {
      "name": "python"
    }
  },
  "cells": [
    {
      "cell_type": "code",
      "source": [
        "from google.colab import drive\n",
        "drive.mount('/content/drive')"
      ],
      "metadata": {
        "id": "hOU71Nb6DKCr"
      },
      "execution_count": null,
      "outputs": []
    },
    {
      "cell_type": "code",
      "source": [
        "import cv2\n",
        "import os\n",
        "\n",
        "# Load your video\n",
        "video_path = '/content/drive/MyDrive/Colab Notebooks/ECE551_P2_Data_2/Vids/Kingshuk/VID_20240423_180939.mp4'  # Change to your uploaded video file name\n",
        "cap = cv2.VideoCapture(video_path)\n",
        "\n",
        "# Check if video opened successfully\n",
        "if not cap.isOpened():\n",
        "    print(\"Error: Could not open video.\")\n",
        "else:\n",
        "    # Get video properties\n",
        "    fps = cap.get(cv2.CAP_PROP_FPS)\n",
        "    total_frames = int(cap.get(cv2.CAP_PROP_FRAME_COUNT))\n",
        "    print(f\"Frames per second: {fps}, Total frames: {total_frames}\")\n",
        "\n",
        "    # Calculate the interval between frames you want to capture\n",
        "    capture_interval = int(fps / 15)  # Adjust this calculation if fps < 15\n",
        "    frame_count = 0\n",
        "    saved_frame_count = 0\n",
        "\n",
        "    # Make sure there is a folder to save frames\n",
        "    save_path = '/content/drive/MyDrive/Colab Notebooks/ECE551_P2_Data_2/Kingshuk/'\n",
        "    if not os.path.exists(save_path):\n",
        "        os.makedirs(save_path)\n",
        "\n",
        "    while True:\n",
        "        ret, frame = cap.read()\n",
        "        if not ret:\n",
        "            break\n",
        "\n",
        "        # We save a frame only if it's on the exact 15Hz interval\n",
        "        if frame_count % capture_interval == 0:\n",
        "            cv2_imshow(frame)  # Display the frame (optional)\n",
        "            frame_filename = f\"{save_path}/Kingshuk_{saved_frame_count}.jpg\"\n",
        "            cv2.imwrite(frame_filename, frame)\n",
        "            print(f'Saved {frame_filename}')\n",
        "            saved_frame_count += 1\n",
        "\n",
        "        frame_count += 1\n",
        "\n",
        "    print(\"Finished extracting frames.\")\n",
        "    cap.release()\n"
      ],
      "metadata": {
        "id": "ot7u4xwhCF-H"
      },
      "execution_count": null,
      "outputs": []
    }
  ]
}