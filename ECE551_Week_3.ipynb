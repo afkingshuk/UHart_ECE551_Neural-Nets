{
  "cells": [
    {
      "cell_type": "markdown",
      "metadata": {
        "id": "view-in-github",
        "colab_type": "text"
      },
      "source": [
        "<a href=\"https://colab.research.google.com/github/afkingshuk/UHart_ECE551_Neural-Nets/blob/CW/ECE551_Week_3.ipynb\" target=\"_parent\"><img src=\"https://colab.research.google.com/assets/colab-badge.svg\" alt=\"Open In Colab\"/></a>"
      ]
    },
    {
      "cell_type": "markdown",
      "metadata": {
        "id": "KMr8hHvMeJ3K"
      },
      "source": [
        "# 1. Python Object Types"
      ]
    },
    {
      "cell_type": "markdown",
      "metadata": {
        "id": "2j1WFPqbeJ3N"
      },
      "source": [
        "## Numbers"
      ]
    },
    {
      "cell_type": "code",
      "execution_count": 1,
      "metadata": {
        "colab": {
          "base_uri": "https://localhost:8080/",
          "height": 0
        },
        "id": "Mfkyhdc6eJ3N",
        "outputId": "6a3d36b7-b2c7-4a49-f0be-e46f12509fab"
      },
      "outputs": [
        {
          "output_type": "execute_result",
          "data": {
            "text/plain": [
              "345"
            ]
          },
          "metadata": {},
          "execution_count": 1
        }
      ],
      "source": [
        "# Integer Addition\n",
        "123 + 222"
      ]
    },
    {
      "cell_type": "code",
      "execution_count": 2,
      "metadata": {
        "colab": {
          "base_uri": "https://localhost:8080/",
          "height": 0
        },
        "id": "fnS8KCZieJ3P",
        "outputId": "00599074-6321-4e97-cd9c-f3e1f4da97e1"
      },
      "outputs": [
        {
          "output_type": "execute_result",
          "data": {
            "text/plain": [
              "6.0"
            ]
          },
          "metadata": {},
          "execution_count": 2
        }
      ],
      "source": [
        "# Floating-point multiplication\n",
        "1.5*4"
      ]
    },
    {
      "cell_type": "code",
      "execution_count": 3,
      "metadata": {
        "colab": {
          "base_uri": "https://localhost:8080/",
          "height": 0
        },
        "id": "fjIFSPG_eJ3P",
        "outputId": "59ede4cd-01d8-4026-d9f1-51f072144e14"
      },
      "outputs": [
        {
          "output_type": "execute_result",
          "data": {
            "text/plain": [
              "1267650600228229401496703205376"
            ]
          },
          "metadata": {},
          "execution_count": 3
        }
      ],
      "source": [
        "# Power operation\n",
        "2 ** 100"
      ]
    },
    {
      "cell_type": "markdown",
      "metadata": {
        "id": "R-nSk78LeJ3Q"
      },
      "source": [
        "Besides expressions, there are a handful of a useful numeric modules that ship with Python - modules are just packages of additional tools we import to use:"
      ]
    },
    {
      "cell_type": "code",
      "execution_count": 4,
      "metadata": {
        "colab": {
          "base_uri": "https://localhost:8080/",
          "height": 0
        },
        "id": "-BxXPYgaeJ3Q",
        "outputId": "b8976edb-2f48-4580-e320-037de6d1c505"
      },
      "outputs": [
        {
          "output_type": "execute_result",
          "data": {
            "text/plain": [
              "3.141592653589793"
            ]
          },
          "metadata": {},
          "execution_count": 4
        }
      ],
      "source": [
        "import math\n",
        "math.pi"
      ]
    },
    {
      "cell_type": "code",
      "execution_count": 5,
      "metadata": {
        "colab": {
          "base_uri": "https://localhost:8080/",
          "height": 0
        },
        "id": "SKUrlHE9eJ3Q",
        "outputId": "20dd248b-da90-4e29-f8d7-a5f14e92060b"
      },
      "outputs": [
        {
          "output_type": "execute_result",
          "data": {
            "text/plain": [
              "9.0"
            ]
          },
          "metadata": {},
          "execution_count": 5
        }
      ],
      "source": [
        "math.sqrt(81)"
      ]
    },
    {
      "cell_type": "markdown",
      "metadata": {
        "id": "R_2mW_JIeJ3R"
      },
      "source": [
        "## Strings"
      ]
    },
    {
      "cell_type": "code",
      "execution_count": 6,
      "metadata": {
        "colab": {
          "base_uri": "https://localhost:8080/",
          "height": 35
        },
        "id": "dybyzCbbeJ3R",
        "outputId": "19a9ab08-38dd-4ab1-d1d9-e3449508a605"
      },
      "outputs": [
        {
          "output_type": "execute_result",
          "data": {
            "text/plain": [
              "'Spam'"
            ],
            "application/vnd.google.colaboratory.intrinsic+json": {
              "type": "string"
            }
          },
          "metadata": {},
          "execution_count": 6
        }
      ],
      "source": [
        "# Make a 4-character string, and assign it to a name\n",
        "S = \"Spam\"\n",
        "S"
      ]
    },
    {
      "cell_type": "code",
      "execution_count": 20,
      "metadata": {
        "colab": {
          "base_uri": "https://localhost:8080/",
          "height": 0
        },
        "id": "lMM3Zmm8eJ3R",
        "outputId": "b611bd13-eade-459a-b929-141113153df4"
      },
      "outputs": [
        {
          "output_type": "execute_result",
          "data": {
            "text/plain": [
              "4"
            ]
          },
          "metadata": {},
          "execution_count": 20
        }
      ],
      "source": [
        "# Length\n",
        "len(S)"
      ]
    },
    {
      "cell_type": "code",
      "execution_count": 8,
      "metadata": {
        "colab": {
          "base_uri": "https://localhost:8080/",
          "height": 35
        },
        "id": "wws506oneJ3S",
        "outputId": "874ed04a-2839-4804-bef1-5614e110ccc7"
      },
      "outputs": [
        {
          "output_type": "execute_result",
          "data": {
            "text/plain": [
              "'S'"
            ],
            "application/vnd.google.colaboratory.intrinsic+json": {
              "type": "string"
            }
          },
          "metadata": {},
          "execution_count": 8
        }
      ],
      "source": [
        "# The first item in S, indexing by zero-based position\n",
        "S[0]"
      ]
    },
    {
      "cell_type": "code",
      "execution_count": 9,
      "metadata": {
        "colab": {
          "base_uri": "https://localhost:8080/",
          "height": 35
        },
        "id": "U0qM2651eJ3S",
        "outputId": "2c815252-a686-47f9-f483-311bf92bb5a7"
      },
      "outputs": [
        {
          "output_type": "execute_result",
          "data": {
            "text/plain": [
              "'p'"
            ],
            "application/vnd.google.colaboratory.intrinsic+json": {
              "type": "string"
            }
          },
          "metadata": {},
          "execution_count": 9
        }
      ],
      "source": [
        "# The second item from the left\n",
        "S[1]"
      ]
    },
    {
      "cell_type": "code",
      "execution_count": 10,
      "metadata": {
        "colab": {
          "base_uri": "https://localhost:8080/",
          "height": 35
        },
        "id": "SAwWeS8aeJ3S",
        "outputId": "fd31dc70-5015-467f-8e19-0f452f51698c"
      },
      "outputs": [
        {
          "output_type": "execute_result",
          "data": {
            "text/plain": [
              "'m'"
            ],
            "application/vnd.google.colaboratory.intrinsic+json": {
              "type": "string"
            }
          },
          "metadata": {},
          "execution_count": 10
        }
      ],
      "source": [
        "# The last item from the end in S\n",
        "S[-1]"
      ]
    },
    {
      "cell_type": "code",
      "execution_count": 11,
      "metadata": {
        "colab": {
          "base_uri": "https://localhost:8080/",
          "height": 35
        },
        "id": "CIQcpxgFeJ3T",
        "outputId": "218649df-6f38-44c2-ee5b-eed1cfcb7fff"
      },
      "outputs": [
        {
          "output_type": "execute_result",
          "data": {
            "text/plain": [
              "'a'"
            ],
            "application/vnd.google.colaboratory.intrinsic+json": {
              "type": "string"
            }
          },
          "metadata": {},
          "execution_count": 11
        }
      ],
      "source": [
        "# The second to last item from the end\n",
        "S[-2]"
      ]
    },
    {
      "cell_type": "code",
      "execution_count": 12,
      "metadata": {
        "colab": {
          "base_uri": "https://localhost:8080/",
          "height": 35
        },
        "id": "qLnneSykeJ3T",
        "outputId": "2f499ba2-a564-4e12-f309-bed0e70fdec9"
      },
      "outputs": [
        {
          "output_type": "execute_result",
          "data": {
            "text/plain": [
              "'pa'"
            ],
            "application/vnd.google.colaboratory.intrinsic+json": {
              "type": "string"
            }
          },
          "metadata": {},
          "execution_count": 12
        }
      ],
      "source": [
        "# Slice of S from offsets 1 through 2 (not 3)\n",
        "S[1:3]"
      ]
    },
    {
      "cell_type": "code",
      "execution_count": 13,
      "metadata": {
        "colab": {
          "base_uri": "https://localhost:8080/",
          "height": 35
        },
        "id": "ftGpkCYFeJ3T",
        "outputId": "a4e63685-5d56-4d7f-a461-a11df4fa4d0f"
      },
      "outputs": [
        {
          "output_type": "execute_result",
          "data": {
            "text/plain": [
              "'pam'"
            ],
            "application/vnd.google.colaboratory.intrinsic+json": {
              "type": "string"
            }
          },
          "metadata": {},
          "execution_count": 13
        }
      ],
      "source": [
        "# Everything past the first\n",
        "S[1:]"
      ]
    },
    {
      "cell_type": "code",
      "execution_count": 14,
      "metadata": {
        "colab": {
          "base_uri": "https://localhost:8080/",
          "height": 35
        },
        "id": "4MwEjAjdeJ3U",
        "outputId": "696a58d7-fb25-4100-8d85-57a442762af8"
      },
      "outputs": [
        {
          "output_type": "execute_result",
          "data": {
            "text/plain": [
              "'Spa'"
            ],
            "application/vnd.google.colaboratory.intrinsic+json": {
              "type": "string"
            }
          },
          "metadata": {},
          "execution_count": 14
        }
      ],
      "source": [
        "# Everything but the last\n",
        "S[:3]"
      ]
    },
    {
      "cell_type": "code",
      "execution_count": 15,
      "metadata": {
        "colab": {
          "base_uri": "https://localhost:8080/",
          "height": 35
        },
        "id": "ttARt-njeJ3U",
        "outputId": "f01a1cb7-0893-4c8e-b451-fb7de0afa964"
      },
      "outputs": [
        {
          "output_type": "execute_result",
          "data": {
            "text/plain": [
              "'Spam'"
            ],
            "application/vnd.google.colaboratory.intrinsic+json": {
              "type": "string"
            }
          },
          "metadata": {},
          "execution_count": 15
        }
      ],
      "source": [
        "# All of S as a top-level copy\n",
        "S[:]"
      ]
    },
    {
      "cell_type": "code",
      "execution_count": 16,
      "metadata": {
        "colab": {
          "base_uri": "https://localhost:8080/",
          "height": 35
        },
        "id": "CoKIMzExeJ3U",
        "outputId": "ffadc669-da0c-4408-c914-1473a545194b"
      },
      "outputs": [
        {
          "output_type": "execute_result",
          "data": {
            "text/plain": [
              "'Spamxyz'"
            ],
            "application/vnd.google.colaboratory.intrinsic+json": {
              "type": "string"
            }
          },
          "metadata": {},
          "execution_count": 16
        }
      ],
      "source": [
        "# Concatenation\n",
        "S + 'xyz'"
      ]
    },
    {
      "cell_type": "code",
      "execution_count": 17,
      "metadata": {
        "colab": {
          "base_uri": "https://localhost:8080/",
          "height": 35
        },
        "id": "LqVApr01eJ3U",
        "outputId": "4ab17f24-405d-43ca-e14a-4b353410de0e"
      },
      "outputs": [
        {
          "output_type": "execute_result",
          "data": {
            "text/plain": [
              "'SpamSpamSpamSpamSpamSpamSpamSpam'"
            ],
            "application/vnd.google.colaboratory.intrinsic+json": {
              "type": "string"
            }
          },
          "metadata": {},
          "execution_count": 17
        }
      ],
      "source": [
        "# Repetition\n",
        "S * 8"
      ]
    },
    {
      "cell_type": "code",
      "execution_count": 18,
      "metadata": {
        "colab": {
          "base_uri": "https://localhost:8080/",
          "height": 193
        },
        "id": "9xU3bYR_eJ3V",
        "outputId": "96665573-762a-47f4-932a-b070a75dcde7"
      },
      "outputs": [
        {
          "output_type": "error",
          "ename": "TypeError",
          "evalue": "'str' object does not support item assignment",
          "traceback": [
            "\u001b[0;31m---------------------------------------------------------------------------\u001b[0m",
            "\u001b[0;31mTypeError\u001b[0m                                 Traceback (most recent call last)",
            "\u001b[0;32m<ipython-input-18-e944cfb031d9>\u001b[0m in \u001b[0;36m<cell line: 2>\u001b[0;34m()\u001b[0m\n\u001b[1;32m      1\u001b[0m \u001b[0;31m# Immutable objects cannot be changed\u001b[0m\u001b[0;34m\u001b[0m\u001b[0;34m\u001b[0m\u001b[0m\n\u001b[0;32m----> 2\u001b[0;31m \u001b[0mS\u001b[0m\u001b[0;34m[\u001b[0m\u001b[0;36m0\u001b[0m\u001b[0;34m]\u001b[0m \u001b[0;34m=\u001b[0m \u001b[0;34m'z'\u001b[0m\u001b[0;34m\u001b[0m\u001b[0;34m\u001b[0m\u001b[0m\n\u001b[0m",
            "\u001b[0;31mTypeError\u001b[0m: 'str' object does not support item assignment"
          ]
        }
      ],
      "source": [
        "# Immutable objects cannot be changed\n",
        "S[0] = 'z'"
      ]
    },
    {
      "cell_type": "code",
      "execution_count": 21,
      "metadata": {
        "colab": {
          "base_uri": "https://localhost:8080/",
          "height": 35
        },
        "id": "KGrmyKg4eJ3V",
        "outputId": "4aa6755f-7231-423f-ae2f-fa6cd610fe56"
      },
      "outputs": [
        {
          "output_type": "execute_result",
          "data": {
            "text/plain": [
              "'zpam'"
            ],
            "application/vnd.google.colaboratory.intrinsic+json": {
              "type": "string"
            }
          },
          "metadata": {},
          "execution_count": 21
        }
      ],
      "source": [
        "# But we can run expressions to make new objects\n",
        "S = 'z' + S[1:]\n",
        "S"
      ]
    },
    {
      "cell_type": "markdown",
      "metadata": {
        "id": "RgLXchoieJ3V"
      },
      "source": [
        "In addition to generic sequence operations, though, strings also have operations all their own, available as *methods*—functions that are attached to and act upon a specific object."
      ]
    },
    {
      "cell_type": "code",
      "execution_count": 22,
      "metadata": {
        "colab": {
          "base_uri": "https://localhost:8080/",
          "height": 0
        },
        "id": "fTOQGYXzeJ3V",
        "outputId": "79fe3802-bcdf-4e4c-d1e0-c9f48847b944"
      },
      "outputs": [
        {
          "output_type": "execute_result",
          "data": {
            "text/plain": [
              "2"
            ]
          },
          "metadata": {},
          "execution_count": 22
        }
      ],
      "source": [
        "S = 'Spam'\n",
        "\n",
        "# Find the offset of a substring in S\n",
        "S.find('am')"
      ]
    },
    {
      "cell_type": "code",
      "execution_count": 23,
      "metadata": {
        "id": "AWZSeH-2eJ3W"
      },
      "outputs": [],
      "source": [
        "S.find?"
      ]
    },
    {
      "cell_type": "code",
      "execution_count": 24,
      "metadata": {
        "colab": {
          "base_uri": "https://localhost:8080/",
          "height": 35
        },
        "id": "gas94qgteJ3W",
        "outputId": "90b7ade2-60d7-4914-d83c-816e527cc509"
      },
      "outputs": [
        {
          "output_type": "execute_result",
          "data": {
            "text/plain": [
              "'Spam'"
            ],
            "application/vnd.google.colaboratory.intrinsic+json": {
              "type": "string"
            }
          },
          "metadata": {},
          "execution_count": 24
        }
      ],
      "source": [
        "S"
      ]
    },
    {
      "cell_type": "code",
      "execution_count": 25,
      "metadata": {
        "colab": {
          "base_uri": "https://localhost:8080/",
          "height": 35
        },
        "id": "1H_nDlwzeJ3W",
        "outputId": "ade66213-c1fe-43a6-ed01-e1caf16b90fc"
      },
      "outputs": [
        {
          "output_type": "execute_result",
          "data": {
            "text/plain": [
              "'SXYZm'"
            ],
            "application/vnd.google.colaboratory.intrinsic+json": {
              "type": "string"
            }
          },
          "metadata": {},
          "execution_count": 25
        }
      ],
      "source": [
        "# Replace occurrences of a string in S with another\n",
        "S.replace('pa', 'XYZ')"
      ]
    },
    {
      "cell_type": "code",
      "execution_count": 26,
      "metadata": {
        "colab": {
          "base_uri": "https://localhost:8080/",
          "height": 35
        },
        "id": "yGI5A6c4eJ3X",
        "outputId": "d6e00945-2abd-48d3-a1eb-a41a4e97bcbd"
      },
      "outputs": [
        {
          "output_type": "execute_result",
          "data": {
            "text/plain": [
              "'Spam'"
            ],
            "application/vnd.google.colaboratory.intrinsic+json": {
              "type": "string"
            }
          },
          "metadata": {},
          "execution_count": 26
        }
      ],
      "source": [
        "# The original string is changed? or not\n",
        "S"
      ]
    },
    {
      "cell_type": "markdown",
      "metadata": {
        "id": "bOaocYvxeJ3X"
      },
      "source": [
        "**Other methods:** Split, case conversions, test the content of the string, and strip white space characters off the ends of the string."
      ]
    },
    {
      "cell_type": "markdown",
      "metadata": {
        "id": "JSfpGNPJeJ3X"
      },
      "source": [
        "**Getting Help:** it returns a list of all the attributes available for any object passed to it."
      ]
    },
    {
      "cell_type": "code",
      "execution_count": 27,
      "metadata": {
        "colab": {
          "base_uri": "https://localhost:8080/",
          "height": 0
        },
        "id": "j6U9m_RIeJ3X",
        "outputId": "f3711dd6-9e74-43b9-e940-86ff26bf3a9f"
      },
      "outputs": [
        {
          "output_type": "execute_result",
          "data": {
            "text/plain": [
              "['__add__',\n",
              " '__class__',\n",
              " '__contains__',\n",
              " '__delattr__',\n",
              " '__dir__',\n",
              " '__doc__',\n",
              " '__eq__',\n",
              " '__format__',\n",
              " '__ge__',\n",
              " '__getattribute__',\n",
              " '__getitem__',\n",
              " '__getnewargs__',\n",
              " '__gt__',\n",
              " '__hash__',\n",
              " '__init__',\n",
              " '__init_subclass__',\n",
              " '__iter__',\n",
              " '__le__',\n",
              " '__len__',\n",
              " '__lt__',\n",
              " '__mod__',\n",
              " '__mul__',\n",
              " '__ne__',\n",
              " '__new__',\n",
              " '__reduce__',\n",
              " '__reduce_ex__',\n",
              " '__repr__',\n",
              " '__rmod__',\n",
              " '__rmul__',\n",
              " '__setattr__',\n",
              " '__sizeof__',\n",
              " '__str__',\n",
              " '__subclasshook__',\n",
              " 'capitalize',\n",
              " 'casefold',\n",
              " 'center',\n",
              " 'count',\n",
              " 'encode',\n",
              " 'endswith',\n",
              " 'expandtabs',\n",
              " 'find',\n",
              " 'format',\n",
              " 'format_map',\n",
              " 'index',\n",
              " 'isalnum',\n",
              " 'isalpha',\n",
              " 'isascii',\n",
              " 'isdecimal',\n",
              " 'isdigit',\n",
              " 'isidentifier',\n",
              " 'islower',\n",
              " 'isnumeric',\n",
              " 'isprintable',\n",
              " 'isspace',\n",
              " 'istitle',\n",
              " 'isupper',\n",
              " 'join',\n",
              " 'ljust',\n",
              " 'lower',\n",
              " 'lstrip',\n",
              " 'maketrans',\n",
              " 'partition',\n",
              " 'removeprefix',\n",
              " 'removesuffix',\n",
              " 'replace',\n",
              " 'rfind',\n",
              " 'rindex',\n",
              " 'rjust',\n",
              " 'rpartition',\n",
              " 'rsplit',\n",
              " 'rstrip',\n",
              " 'split',\n",
              " 'splitlines',\n",
              " 'startswith',\n",
              " 'strip',\n",
              " 'swapcase',\n",
              " 'title',\n",
              " 'translate',\n",
              " 'upper',\n",
              " 'zfill']"
            ]
          },
          "metadata": {},
          "execution_count": 27
        }
      ],
      "source": [
        "dir(S)"
      ]
    },
    {
      "cell_type": "code",
      "execution_count": 29,
      "metadata": {
        "id": "J05BEf0KeJ3Y"
      },
      "outputs": [],
      "source": [
        "S.replace?"
      ]
    },
    {
      "cell_type": "markdown",
      "metadata": {
        "id": "IUcfyruveJ3Y"
      },
      "source": [
        "## Lists"
      ]
    },
    {
      "cell_type": "markdown",
      "metadata": {
        "id": "PD4ekj7oeJ3Y"
      },
      "source": [
        "The Python list object is the most general sequence provided by the language. Lists are positionally ordered collections of arbitrarily typed objects, and they have no fixed size. They are also mutable—unlike strings."
      ]
    },
    {
      "cell_type": "code",
      "execution_count": 30,
      "metadata": {
        "id": "GPAM1A55eJ3Z"
      },
      "outputs": [],
      "source": [
        "# A list of three different-type objects\n",
        "L = [123, 'spam', 1.23]"
      ]
    },
    {
      "cell_type": "code",
      "execution_count": 31,
      "metadata": {
        "colab": {
          "base_uri": "https://localhost:8080/",
          "height": 0
        },
        "id": "HO-Bg4m5eJ3Z",
        "outputId": "b61c81e2-8f0d-4863-aa0a-8681fbdd8e24"
      },
      "outputs": [
        {
          "output_type": "execute_result",
          "data": {
            "text/plain": [
              "3"
            ]
          },
          "metadata": {},
          "execution_count": 31
        }
      ],
      "source": [
        "# Number of items in the list\n",
        "len(L)"
      ]
    },
    {
      "cell_type": "markdown",
      "metadata": {
        "id": "up_AeocdeJ3Z"
      },
      "source": [
        "We can index, slice, and so on, just as for strings:"
      ]
    },
    {
      "cell_type": "code",
      "execution_count": 32,
      "metadata": {
        "colab": {
          "base_uri": "https://localhost:8080/",
          "height": 0
        },
        "id": "iXZU1GqIeJ3a",
        "outputId": "715e5ffc-dd77-4d70-8074-33afe9ad57a7"
      },
      "outputs": [
        {
          "output_type": "execute_result",
          "data": {
            "text/plain": [
              "123"
            ]
          },
          "metadata": {},
          "execution_count": 32
        }
      ],
      "source": [
        "# Indexing by position\n",
        "L[0]"
      ]
    },
    {
      "cell_type": "code",
      "execution_count": 33,
      "metadata": {
        "colab": {
          "base_uri": "https://localhost:8080/",
          "height": 0
        },
        "id": "BrBJrxIWeJ3o",
        "outputId": "5c838b52-d049-4a4e-924a-913bc7167cf8"
      },
      "outputs": [
        {
          "output_type": "execute_result",
          "data": {
            "text/plain": [
              "[123, 'spam']"
            ]
          },
          "metadata": {},
          "execution_count": 33
        }
      ],
      "source": [
        "# Slicing a list returns a new list\n",
        "L[:-1]"
      ]
    },
    {
      "cell_type": "code",
      "execution_count": 34,
      "metadata": {
        "colab": {
          "base_uri": "https://localhost:8080/",
          "height": 0
        },
        "id": "GL0UdkIDeJ3o",
        "outputId": "86792279-7e62-457e-f30d-8e25f71b6cfa"
      },
      "outputs": [
        {
          "output_type": "execute_result",
          "data": {
            "text/plain": [
              "[123, 'spam', 1.23, 4, 5, 6]"
            ]
          },
          "metadata": {},
          "execution_count": 34
        }
      ],
      "source": [
        "# Concat/repeat make a new lists too\n",
        "L + [4, 5, 6]"
      ]
    },
    {
      "cell_type": "code",
      "execution_count": 35,
      "metadata": {
        "colab": {
          "base_uri": "https://localhost:8080/",
          "height": 0
        },
        "id": "M2bdY8-UeJ3o",
        "outputId": "17f8f8ff-7029-46bd-f65f-eef109112ff0"
      },
      "outputs": [
        {
          "output_type": "execute_result",
          "data": {
            "text/plain": [
              "[123, 'spam', 1.23, 123, 'spam', 1.23]"
            ]
          },
          "metadata": {},
          "execution_count": 35
        }
      ],
      "source": [
        "L * 2"
      ]
    },
    {
      "cell_type": "code",
      "execution_count": 36,
      "metadata": {
        "colab": {
          "base_uri": "https://localhost:8080/",
          "height": 0
        },
        "id": "R-wHLqIDeJ3p",
        "outputId": "e1399101-d488-4717-fdc4-3b640a9c7810"
      },
      "outputs": [
        {
          "output_type": "execute_result",
          "data": {
            "text/plain": [
              "[123, 'spam', 1.23]"
            ]
          },
          "metadata": {},
          "execution_count": 36
        }
      ],
      "source": [
        "# We're not changing the original list\n",
        "L"
      ]
    },
    {
      "cell_type": "markdown",
      "metadata": {
        "id": "rulF1Z1NeJ3p"
      },
      "source": [
        "Further, lists have no fixed *size*. That is, they can grow and shrink on demand, in response to list-specific operations."
      ]
    },
    {
      "cell_type": "code",
      "execution_count": 37,
      "metadata": {
        "colab": {
          "base_uri": "https://localhost:8080/",
          "height": 0
        },
        "id": "LzdTN3cmeJ3p",
        "outputId": "fb4c45f1-8a8c-4ac3-af72-bd9012029fe1"
      },
      "outputs": [
        {
          "output_type": "execute_result",
          "data": {
            "text/plain": [
              "[123, 'spam', 1.23, 'NI']"
            ]
          },
          "metadata": {},
          "execution_count": 37
        }
      ],
      "source": [
        "# Growing: add object at end of list\n",
        "L.append('NI')\n",
        "L"
      ]
    },
    {
      "cell_type": "code",
      "execution_count": 38,
      "metadata": {
        "colab": {
          "base_uri": "https://localhost:8080/",
          "height": 0
        },
        "id": "SMQpZLZKeJ3p",
        "outputId": "c2af2c1d-d03c-4011-db90-499dc56e9584"
      },
      "outputs": [
        {
          "output_type": "execute_result",
          "data": {
            "text/plain": [
              "1.23"
            ]
          },
          "metadata": {},
          "execution_count": 38
        }
      ],
      "source": [
        "# Shrinking: delete an item in the middle\n",
        "L.pop(2)"
      ]
    },
    {
      "cell_type": "code",
      "execution_count": 39,
      "metadata": {
        "colab": {
          "base_uri": "https://localhost:8080/",
          "height": 0
        },
        "id": "8sdod7i2eJ3q",
        "outputId": "5eeabff2-1059-427d-b46b-5c6c320c7cb5"
      },
      "outputs": [
        {
          "output_type": "execute_result",
          "data": {
            "text/plain": [
              "[123, 'spam', 'NI']"
            ]
          },
          "metadata": {},
          "execution_count": 39
        }
      ],
      "source": [
        "# del L[2] deletes from a list too\n",
        "L"
      ]
    },
    {
      "cell_type": "markdown",
      "metadata": {
        "id": "Vz6NyphyeJ3q"
      },
      "source": [
        "Because lists are mutable, most list methods also change the list\n",
        "object in place, instead of creating a new one:"
      ]
    },
    {
      "cell_type": "code",
      "execution_count": 40,
      "metadata": {
        "colab": {
          "base_uri": "https://localhost:8080/",
          "height": 0
        },
        "id": "KYTqnOnUeJ3q",
        "outputId": "c309fc05-eb6d-4a4a-fa62-74c336d97864"
      },
      "outputs": [
        {
          "output_type": "execute_result",
          "data": {
            "text/plain": [
              "['aa', 'bb', 'cc']"
            ]
          },
          "metadata": {},
          "execution_count": 40
        }
      ],
      "source": [
        "M = ['bb', 'aa', 'cc']\n",
        "M.sort()\n",
        "M"
      ]
    },
    {
      "cell_type": "code",
      "execution_count": 42,
      "metadata": {
        "id": "TIZUyI6EeJ3q"
      },
      "outputs": [],
      "source": [
        "M.sort?"
      ]
    },
    {
      "cell_type": "code",
      "execution_count": 43,
      "metadata": {
        "colab": {
          "base_uri": "https://localhost:8080/",
          "height": 0
        },
        "id": "3gdnA1dTeJ3q",
        "outputId": "80d1fbc5-a8cd-4ead-c53d-d51cb92a2764"
      },
      "outputs": [
        {
          "output_type": "execute_result",
          "data": {
            "text/plain": [
              "['cc', 'bb', 'aa']"
            ]
          },
          "metadata": {},
          "execution_count": 43
        }
      ],
      "source": [
        "M.sort(reverse=True)\n",
        "M"
      ]
    },
    {
      "cell_type": "code",
      "execution_count": 44,
      "metadata": {
        "colab": {
          "base_uri": "https://localhost:8080/",
          "height": 0
        },
        "id": "F6Hw8RFJeJ3r",
        "outputId": "a88cb5aa-3681-463c-b10d-65e8bf5d151a"
      },
      "outputs": [
        {
          "output_type": "execute_result",
          "data": {
            "text/plain": [
              "['aa', 'bb', 'cc']"
            ]
          },
          "metadata": {},
          "execution_count": 44
        }
      ],
      "source": [
        "M.reverse()\n",
        "M"
      ]
    },
    {
      "cell_type": "code",
      "execution_count": 45,
      "metadata": {
        "colab": {
          "base_uri": "https://localhost:8080/",
          "height": 0
        },
        "id": "1Pf50xjoeJ3r",
        "outputId": "ba2f1f73-c83f-4bb3-e11d-b3600db63968"
      },
      "outputs": [
        {
          "output_type": "stream",
          "name": "stdout",
          "text": [
            "Help on built-in function reverse:\n",
            "\n",
            "reverse() method of builtins.list instance\n",
            "    Reverse *IN PLACE*.\n",
            "\n"
          ]
        }
      ],
      "source": [
        "help(M.reverse)"
      ]
    },
    {
      "cell_type": "markdown",
      "metadata": {
        "id": "UXg82Fx9eJ3r"
      },
      "source": [
        "**Nesting:** We can nest Python's core data types in any combination, and as deeply as we like. One immediate application of this feature is to represent matrices, or ``multidimensional arrays'' in Python."
      ]
    },
    {
      "cell_type": "code",
      "execution_count": 46,
      "metadata": {
        "id": "nJS9-RkHeJ3s"
      },
      "outputs": [],
      "source": [
        "# A 3 x 3 matrix, as nested lists; code can span lines if bracketed\n",
        "M = [[1, 2, 3],\n",
        "     [4, 5, 6],\n",
        "     [7, 8, 9]]"
      ]
    },
    {
      "cell_type": "code",
      "execution_count": 47,
      "metadata": {
        "colab": {
          "base_uri": "https://localhost:8080/",
          "height": 0
        },
        "id": "lzkmzTqmeJ3s",
        "outputId": "2a8734f1-8883-447e-86d7-3612c8b159f6"
      },
      "outputs": [
        {
          "output_type": "execute_result",
          "data": {
            "text/plain": [
              "[[1, 2, 3], [4, 5, 6], [7, 8, 9]]"
            ]
          },
          "metadata": {},
          "execution_count": 47
        }
      ],
      "source": [
        "M"
      ]
    },
    {
      "cell_type": "code",
      "execution_count": 48,
      "metadata": {
        "colab": {
          "base_uri": "https://localhost:8080/",
          "height": 0
        },
        "id": "3gc-i1l1eJ3s",
        "outputId": "01668880-7442-4328-f510-cc2073662c11"
      },
      "outputs": [
        {
          "output_type": "execute_result",
          "data": {
            "text/plain": [
              "2"
            ]
          },
          "metadata": {},
          "execution_count": 48
        }
      ],
      "source": [
        "# Get second item of M\n",
        "M[0][1]"
      ]
    },
    {
      "cell_type": "code",
      "execution_count": 49,
      "metadata": {
        "colab": {
          "base_uri": "https://localhost:8080/",
          "height": 0
        },
        "id": "uGMLShnleJ3t",
        "outputId": "305a2add-c394-4d3b-d205-a9b4009bdb7e"
      },
      "outputs": [
        {
          "output_type": "execute_result",
          "data": {
            "text/plain": [
              "6"
            ]
          },
          "metadata": {},
          "execution_count": 49
        }
      ],
      "source": [
        "# Get row 2, then get item 3 within the row\n",
        "M[1][2]"
      ]
    },
    {
      "cell_type": "markdown",
      "metadata": {
        "id": "P-sqr7zgeJ3t"
      },
      "source": [
        "**Comprehensions:** In addition to sequence operations and list methods, Python includes a more advanced operation known as a list comprehension expression, which turns out to be a powerful way to process structures like our matrix."
      ]
    },
    {
      "cell_type": "code",
      "execution_count": 50,
      "metadata": {
        "colab": {
          "base_uri": "https://localhost:8080/",
          "height": 0
        },
        "id": "o2wlV2jGeJ3t",
        "outputId": "deabc950-f95a-4dec-cd97-4257e9073dd0"
      },
      "outputs": [
        {
          "output_type": "execute_result",
          "data": {
            "text/plain": [
              "[2, 5, 8]"
            ]
          },
          "metadata": {},
          "execution_count": 50
        }
      ],
      "source": [
        "# Collect the items in column 2\n",
        "col2 = [row[1] for row in M]\n",
        "\n",
        "col2"
      ]
    },
    {
      "cell_type": "code",
      "execution_count": 51,
      "metadata": {
        "colab": {
          "base_uri": "https://localhost:8080/",
          "height": 0
        },
        "id": "qI8KMDGLeJ3t",
        "outputId": "457356ec-9e24-4f3c-86c1-d4c0050fee43"
      },
      "outputs": [
        {
          "output_type": "execute_result",
          "data": {
            "text/plain": [
              "[3, 6, 9]"
            ]
          },
          "metadata": {},
          "execution_count": 51
        }
      ],
      "source": [
        "# Add 1 to each item in column 2\n",
        "[row[1] + 1 for row in M]"
      ]
    },
    {
      "cell_type": "code",
      "execution_count": 52,
      "metadata": {
        "colab": {
          "base_uri": "https://localhost:8080/",
          "height": 0
        },
        "id": "zfKRNJ3xeJ3u",
        "outputId": "321ab3e3-ed5a-4bdc-c41a-11a2635d715d"
      },
      "outputs": [
        {
          "output_type": "execute_result",
          "data": {
            "text/plain": [
              "[2, 8]"
            ]
          },
          "metadata": {},
          "execution_count": 52
        }
      ],
      "source": [
        "# Filter out odd items\n",
        "[row[1] for row in M if row[1] % 2 == 0]"
      ]
    },
    {
      "cell_type": "markdown",
      "metadata": {
        "id": "VSSBaHfAeJ3u"
      },
      "source": [
        "## Dictionaries"
      ]
    },
    {
      "cell_type": "markdown",
      "metadata": {
        "id": "3jb1lvRmeJ3u"
      },
      "source": [
        "Python dictionaries are not sequences at all, but are instead known as mappings. They simply map keys to associated values. Dictionaries, the only mapping type in Python’s core objects set, are also mutable: like lists, they may be changed in place and can grow and shrink on demand."
      ]
    },
    {
      "cell_type": "code",
      "execution_count": 53,
      "metadata": {
        "id": "zoUJZY_YeJ3v"
      },
      "outputs": [],
      "source": [
        "D = {'food': 'Spam', 'quantity': 4, 'color': 'pink'}"
      ]
    },
    {
      "cell_type": "code",
      "execution_count": 54,
      "metadata": {
        "colab": {
          "base_uri": "https://localhost:8080/",
          "height": 35
        },
        "id": "eei2yRjMeJ3v",
        "outputId": "c6bb9672-f3f9-44d7-c5e7-c6a64d44dfa7"
      },
      "outputs": [
        {
          "output_type": "execute_result",
          "data": {
            "text/plain": [
              "'Spam'"
            ],
            "application/vnd.google.colaboratory.intrinsic+json": {
              "type": "string"
            }
          },
          "metadata": {},
          "execution_count": 54
        }
      ],
      "source": [
        "# Fetch value of key 'food'\n",
        "D['food']"
      ]
    },
    {
      "cell_type": "code",
      "execution_count": 55,
      "metadata": {
        "colab": {
          "base_uri": "https://localhost:8080/",
          "height": 0
        },
        "id": "WFRte00oeJ3v",
        "outputId": "a447f12a-3b8d-4c6f-8cf3-5d8efa2df9e7"
      },
      "outputs": [
        {
          "output_type": "execute_result",
          "data": {
            "text/plain": [
              "{'food': 'Spam', 'quantity': 5, 'color': 'pink'}"
            ]
          },
          "metadata": {},
          "execution_count": 55
        }
      ],
      "source": [
        "# Add 1 to 'quantity' value\n",
        "D['quantity'] += 1\n",
        "\n",
        "D"
      ]
    },
    {
      "cell_type": "markdown",
      "metadata": {
        "id": "f8L9o1epeJ3v"
      },
      "source": [
        "You can start with an empty dictionary and fill it out one key at a time."
      ]
    },
    {
      "cell_type": "code",
      "execution_count": 56,
      "metadata": {
        "colab": {
          "base_uri": "https://localhost:8080/",
          "height": 0
        },
        "id": "0MX_0-xaeJ3w",
        "outputId": "85c06937-282d-46e7-cf0d-38e74c7a22bd"
      },
      "outputs": [
        {
          "output_type": "execute_result",
          "data": {
            "text/plain": [
              "{'name': 'Bob', 'job': 'dev', 'age': 40}"
            ]
          },
          "metadata": {},
          "execution_count": 56
        }
      ],
      "source": [
        "D = {}\n",
        "\n",
        "# Create keys by assignment\n",
        "D['name'] = 'Bob'\n",
        "D['job'] = 'dev'\n",
        "D['age'] = 40\n",
        "\n",
        "D"
      ]
    },
    {
      "cell_type": "markdown",
      "metadata": {
        "id": "PANYpkbdeJ3w"
      },
      "source": [
        "**Nesting Revisited**: The following dictionary, coded all at once as a literal, captures more structured information."
      ]
    },
    {
      "cell_type": "code",
      "execution_count": 57,
      "metadata": {
        "id": "I4qEz2eKeJ3w"
      },
      "outputs": [],
      "source": [
        "rec = {'name': {'first': 'Bob', 'last': 'Smith'},\n",
        "       'jobs': ['dev', 'mgr'],\n",
        "       'age': 40.5}"
      ]
    },
    {
      "cell_type": "code",
      "execution_count": 58,
      "metadata": {
        "colab": {
          "base_uri": "https://localhost:8080/",
          "height": 0
        },
        "id": "z5Z26MQmeJ3x",
        "outputId": "1cbbdda9-1930-4269-a904-ca954a27165c"
      },
      "outputs": [
        {
          "output_type": "execute_result",
          "data": {
            "text/plain": [
              "{'first': 'Bob', 'last': 'Smith'}"
            ]
          },
          "metadata": {},
          "execution_count": 58
        }
      ],
      "source": [
        "# 'name' is a nested dictionary\n",
        "rec['name']"
      ]
    },
    {
      "cell_type": "code",
      "execution_count": 59,
      "metadata": {
        "colab": {
          "base_uri": "https://localhost:8080/",
          "height": 35
        },
        "id": "4X7RKQDheJ3x",
        "outputId": "609c1164-91a6-41f5-b4eb-4204a7359f6c"
      },
      "outputs": [
        {
          "output_type": "execute_result",
          "data": {
            "text/plain": [
              "'Smith'"
            ],
            "application/vnd.google.colaboratory.intrinsic+json": {
              "type": "string"
            }
          },
          "metadata": {},
          "execution_count": 59
        }
      ],
      "source": [
        "# Index the nested dictionary\n",
        "rec['name']['last']"
      ]
    },
    {
      "cell_type": "code",
      "execution_count": 60,
      "metadata": {
        "colab": {
          "base_uri": "https://localhost:8080/",
          "height": 0
        },
        "id": "YgR9o2BKeJ3x",
        "outputId": "0949a08b-d69f-4f0d-96fd-4a9afcdd86b0"
      },
      "outputs": [
        {
          "output_type": "execute_result",
          "data": {
            "text/plain": [
              "['dev', 'mgr']"
            ]
          },
          "metadata": {},
          "execution_count": 60
        }
      ],
      "source": [
        "# 'jobs' is a nested list\n",
        "rec['jobs']"
      ]
    },
    {
      "cell_type": "code",
      "execution_count": 61,
      "metadata": {
        "colab": {
          "base_uri": "https://localhost:8080/",
          "height": 35
        },
        "id": "KARpQFlZeJ3y",
        "outputId": "bc39b26e-850f-45ee-a3f2-c47d50f4cc7e"
      },
      "outputs": [
        {
          "output_type": "execute_result",
          "data": {
            "text/plain": [
              "'mgr'"
            ],
            "application/vnd.google.colaboratory.intrinsic+json": {
              "type": "string"
            }
          },
          "metadata": {},
          "execution_count": 61
        }
      ],
      "source": [
        "# Index the nested list\n",
        "rec['jobs'][-1]"
      ]
    },
    {
      "cell_type": "code",
      "execution_count": 62,
      "metadata": {
        "colab": {
          "base_uri": "https://localhost:8080/",
          "height": 0
        },
        "id": "z75V-apheJ3y",
        "outputId": "e8bbdba9-eaf7-4df7-af49-69eab5ddba00"
      },
      "outputs": [
        {
          "output_type": "execute_result",
          "data": {
            "text/plain": [
              "{'name': {'first': 'Bob', 'last': 'Smith'},\n",
              " 'jobs': ['dev', 'mgr', 'janitor'],\n",
              " 'age': 40.5}"
            ]
          },
          "metadata": {},
          "execution_count": 62
        }
      ],
      "source": [
        "# Expand Bob's job description in place\n",
        "rec['jobs'].append('janitor')\n",
        "\n",
        "rec"
      ]
    },
    {
      "cell_type": "markdown",
      "metadata": {
        "id": "yHYHC4txeJ3y"
      },
      "source": [
        "**Missing Keys:** Fetching a nonexistent key is a mistake."
      ]
    },
    {
      "cell_type": "code",
      "execution_count": 63,
      "metadata": {
        "colab": {
          "base_uri": "https://localhost:8080/",
          "height": 0
        },
        "id": "FQf40GwQeJ3y",
        "outputId": "f34a2a54-f066-4d46-a8bc-166d5c7d341e"
      },
      "outputs": [
        {
          "output_type": "execute_result",
          "data": {
            "text/plain": [
              "{'a': 1, 'b': 2, 'c': 3}"
            ]
          },
          "metadata": {},
          "execution_count": 63
        }
      ],
      "source": [
        "D = {'a': 1, 'b': 2, 'c': 3}\n",
        "\n",
        "D"
      ]
    },
    {
      "cell_type": "code",
      "execution_count": 64,
      "metadata": {
        "colab": {
          "base_uri": "https://localhost:8080/",
          "height": 0
        },
        "id": "Mh-W48bzeJ3z",
        "outputId": "271eea75-15a9-4775-8e33-b69ebb80d3f8"
      },
      "outputs": [
        {
          "output_type": "execute_result",
          "data": {
            "text/plain": [
              "{'a': 1, 'b': 2, 'c': 3, 'e': 99}"
            ]
          },
          "metadata": {},
          "execution_count": 64
        }
      ],
      "source": [
        "# Assigning new keys grows dictionaries\n",
        "D['e'] = 99\n",
        "\n",
        "D"
      ]
    },
    {
      "cell_type": "code",
      "execution_count": 65,
      "metadata": {
        "colab": {
          "base_uri": "https://localhost:8080/",
          "height": 193
        },
        "id": "wqvDRLR2eJ3z",
        "outputId": "a73c1e1e-9f73-4d86-859f-9a5087c9d628"
      },
      "outputs": [
        {
          "output_type": "error",
          "ename": "KeyError",
          "evalue": "'f'",
          "traceback": [
            "\u001b[0;31m---------------------------------------------------------------------------\u001b[0m",
            "\u001b[0;31mKeyError\u001b[0m                                  Traceback (most recent call last)",
            "\u001b[0;32m<ipython-input-65-10f2c25d32b7>\u001b[0m in \u001b[0;36m<cell line: 2>\u001b[0;34m()\u001b[0m\n\u001b[1;32m      1\u001b[0m \u001b[0;31m# Referencing a nonexistent key is an error\u001b[0m\u001b[0;34m\u001b[0m\u001b[0;34m\u001b[0m\u001b[0m\n\u001b[0;32m----> 2\u001b[0;31m \u001b[0mD\u001b[0m\u001b[0;34m[\u001b[0m\u001b[0;34m'f'\u001b[0m\u001b[0;34m]\u001b[0m\u001b[0;34m\u001b[0m\u001b[0;34m\u001b[0m\u001b[0m\n\u001b[0m",
            "\u001b[0;31mKeyError\u001b[0m: 'f'"
          ]
        }
      ],
      "source": [
        "# Referencing a nonexistent key is an error\n",
        "D['f']"
      ]
    },
    {
      "cell_type": "code",
      "execution_count": 66,
      "metadata": {
        "colab": {
          "base_uri": "https://localhost:8080/",
          "height": 0
        },
        "id": "-67i-Go0eJ3z",
        "outputId": "d8feb73f-4591-417c-e79d-a6f33b5957b7"
      },
      "outputs": [
        {
          "output_type": "execute_result",
          "data": {
            "text/plain": [
              "False"
            ]
          },
          "metadata": {},
          "execution_count": 66
        }
      ],
      "source": [
        "'f' in D"
      ]
    },
    {
      "cell_type": "markdown",
      "metadata": {
        "id": "jJu_gExEeJ3z"
      },
      "source": [
        "Besides the if test, there are a variety of ways to avoid accessing nonexistent keys in the dictionaries we create: the **get** method, a conditional index with a default."
      ]
    },
    {
      "cell_type": "code",
      "execution_count": 67,
      "metadata": {
        "colab": {
          "base_uri": "https://localhost:8080/",
          "height": 35
        },
        "id": "9gWnzsteeJ30",
        "outputId": "60f68def-9d22-4893-cd58-e07cb8e00e0c"
      },
      "outputs": [
        {
          "output_type": "execute_result",
          "data": {
            "text/plain": [
              "'Not find'"
            ],
            "application/vnd.google.colaboratory.intrinsic+json": {
              "type": "string"
            }
          },
          "metadata": {},
          "execution_count": 67
        }
      ],
      "source": [
        "# Index but with a default\n",
        "value = D.get('h', \"Not find\")\n",
        "\n",
        "value"
      ]
    },
    {
      "cell_type": "code",
      "execution_count": 68,
      "metadata": {
        "scrolled": true,
        "colab": {
          "base_uri": "https://localhost:8080/",
          "height": 0
        },
        "id": "4fWXBMTQeJ30",
        "outputId": "bbb5b034-2ac2-463b-c094-9311b02a8be8"
      },
      "outputs": [
        {
          "output_type": "stream",
          "name": "stdout",
          "text": [
            "Help on built-in function get:\n",
            "\n",
            "get(key, default=None, /) method of builtins.dict instance\n",
            "    Return the value for key if key is in the dictionary, else default.\n",
            "\n"
          ]
        }
      ],
      "source": [
        "help(D.get)"
      ]
    },
    {
      "cell_type": "markdown",
      "metadata": {
        "id": "dxdwkC5ReJ30"
      },
      "source": [
        "## Tuples"
      ]
    },
    {
      "cell_type": "markdown",
      "metadata": {
        "id": "p7peoa6DeJ31"
      },
      "source": [
        "The tuple object is roughly like a list that cannot be changed.(inmutable)"
      ]
    },
    {
      "cell_type": "code",
      "execution_count": 69,
      "metadata": {
        "id": "2Xj76jxJeJ31"
      },
      "outputs": [],
      "source": [
        "# A 4-item tuple parenthesis\n",
        "T = (1, 2, 3, 4)"
      ]
    },
    {
      "cell_type": "code",
      "execution_count": 70,
      "metadata": {
        "colab": {
          "base_uri": "https://localhost:8080/",
          "height": 0
        },
        "id": "pnTmxtZpeJ31",
        "outputId": "75c47154-6101-430f-ff2b-6b5e8d21ce22"
      },
      "outputs": [
        {
          "output_type": "execute_result",
          "data": {
            "text/plain": [
              "4"
            ]
          },
          "metadata": {},
          "execution_count": 70
        }
      ],
      "source": [
        "# Length\n",
        "len(T)"
      ]
    },
    {
      "cell_type": "code",
      "execution_count": 71,
      "metadata": {
        "colab": {
          "base_uri": "https://localhost:8080/",
          "height": 0
        },
        "id": "dXO3DdxYeJ31",
        "outputId": "070179cd-846a-4b4b-dd6c-6cf526f2b7ed"
      },
      "outputs": [
        {
          "output_type": "execute_result",
          "data": {
            "text/plain": [
              "(1, 2, 3, 4, 5, 6)"
            ]
          },
          "metadata": {},
          "execution_count": 71
        }
      ],
      "source": [
        "# Concatenation\n",
        "T + (5, 6)"
      ]
    },
    {
      "cell_type": "code",
      "execution_count": 72,
      "metadata": {
        "colab": {
          "base_uri": "https://localhost:8080/",
          "height": 0
        },
        "id": "8LGNaV2heJ32",
        "outputId": "947d8778-84d1-4215-dae3-af05f8165428"
      },
      "outputs": [
        {
          "output_type": "execute_result",
          "data": {
            "text/plain": [
              "1"
            ]
          },
          "metadata": {},
          "execution_count": 72
        }
      ],
      "source": [
        "# Indexing, slicing, and more\n",
        "T[0]"
      ]
    },
    {
      "cell_type": "code",
      "execution_count": 73,
      "metadata": {
        "colab": {
          "base_uri": "https://localhost:8080/",
          "height": 210
        },
        "id": "lG6M15jqeJ32",
        "outputId": "b9d4b5f8-ef55-412a-a1e9-e3b49f7aa43e"
      },
      "outputs": [
        {
          "output_type": "error",
          "ename": "TypeError",
          "evalue": "'tuple' object does not support item assignment",
          "traceback": [
            "\u001b[0;31m---------------------------------------------------------------------------\u001b[0m",
            "\u001b[0;31mTypeError\u001b[0m                                 Traceback (most recent call last)",
            "\u001b[0;32m<ipython-input-73-a838ffe2ac83>\u001b[0m in \u001b[0;36m<cell line: 2>\u001b[0;34m()\u001b[0m\n\u001b[1;32m      1\u001b[0m \u001b[0;31m#Tuples are immutable\u001b[0m\u001b[0;34m\u001b[0m\u001b[0;34m\u001b[0m\u001b[0m\n\u001b[0;32m----> 2\u001b[0;31m \u001b[0mT\u001b[0m\u001b[0;34m[\u001b[0m\u001b[0;36m0\u001b[0m\u001b[0;34m]\u001b[0m \u001b[0;34m=\u001b[0m \u001b[0;36m2\u001b[0m\u001b[0;34m\u001b[0m\u001b[0;34m\u001b[0m\u001b[0m\n\u001b[0m\u001b[1;32m      3\u001b[0m \u001b[0mT\u001b[0m\u001b[0;34m\u001b[0m\u001b[0;34m\u001b[0m\u001b[0m\n",
            "\u001b[0;31mTypeError\u001b[0m: 'tuple' object does not support item assignment"
          ]
        }
      ],
      "source": [
        "#Tuples are immutable\n",
        "T[0] = 2\n",
        "T"
      ]
    },
    {
      "cell_type": "code",
      "execution_count": 74,
      "metadata": {
        "colab": {
          "base_uri": "https://localhost:8080/",
          "height": 0
        },
        "id": "Wpn2U4nieJ32",
        "outputId": "6ef9e549-8f53-4030-f507-c2da752ec630"
      },
      "outputs": [
        {
          "output_type": "execute_result",
          "data": {
            "text/plain": [
              "(2, 2, 3, 4)"
            ]
          },
          "metadata": {},
          "execution_count": 74
        }
      ],
      "source": [
        "# Make a new tuple for a new value\n",
        "T = (2,) + T[1:]\n",
        "T"
      ]
    },
    {
      "cell_type": "markdown",
      "metadata": {
        "id": "KMHR90G1eJ32"
      },
      "source": [
        "Like lists and dictionaries, tuples support mixed types and nesting, but they don’t grow and shrink because they are immutable (the parentheses enclosing a tuple’s items can usually be omitted, as done here):"
      ]
    },
    {
      "cell_type": "code",
      "execution_count": 75,
      "metadata": {
        "colab": {
          "base_uri": "https://localhost:8080/",
          "height": 0
        },
        "id": "zyYAOHrAeJ32",
        "outputId": "35180f0d-d8e4-43ce-db8f-50ffdf87ced0"
      },
      "outputs": [
        {
          "output_type": "execute_result",
          "data": {
            "text/plain": [
              "('spam', 3.0, [11, 22, 33])"
            ]
          },
          "metadata": {},
          "execution_count": 75
        }
      ],
      "source": [
        "T = ('spam', 3.0, [11, 22, 33])\n",
        "T"
      ]
    },
    {
      "cell_type": "code",
      "execution_count": 76,
      "metadata": {
        "colab": {
          "base_uri": "https://localhost:8080/",
          "height": 0
        },
        "id": "5N2F6ORKeJ32",
        "outputId": "c275d32a-ed07-4def-aa93-3a46f629ff30"
      },
      "outputs": [
        {
          "output_type": "execute_result",
          "data": {
            "text/plain": [
              "3.0"
            ]
          },
          "metadata": {},
          "execution_count": 76
        }
      ],
      "source": [
        "T[1]"
      ]
    },
    {
      "cell_type": "code",
      "execution_count": 77,
      "metadata": {
        "colab": {
          "base_uri": "https://localhost:8080/",
          "height": 0
        },
        "id": "2V8ds4FkeJ33",
        "outputId": "5c94981c-6b86-47e4-8c73-113deff9f996"
      },
      "outputs": [
        {
          "output_type": "execute_result",
          "data": {
            "text/plain": [
              "22"
            ]
          },
          "metadata": {},
          "execution_count": 77
        }
      ],
      "source": [
        "T[2][1]"
      ]
    },
    {
      "cell_type": "code",
      "execution_count": 78,
      "metadata": {
        "colab": {
          "base_uri": "https://localhost:8080/",
          "height": 175
        },
        "id": "Kl8isiyAeJ33",
        "outputId": "a91b651f-60f9-4770-9e88-2434e790ef54"
      },
      "outputs": [
        {
          "output_type": "error",
          "ename": "AttributeError",
          "evalue": "'tuple' object has no attribute 'append'",
          "traceback": [
            "\u001b[0;31m---------------------------------------------------------------------------\u001b[0m",
            "\u001b[0;31mAttributeError\u001b[0m                            Traceback (most recent call last)",
            "\u001b[0;32m<ipython-input-78-6d45fc78ad1f>\u001b[0m in \u001b[0;36m<cell line: 1>\u001b[0;34m()\u001b[0m\n\u001b[0;32m----> 1\u001b[0;31m \u001b[0mT\u001b[0m\u001b[0;34m.\u001b[0m\u001b[0mappend\u001b[0m\u001b[0;34m(\u001b[0m\u001b[0;36m4\u001b[0m\u001b[0;34m)\u001b[0m\u001b[0;34m\u001b[0m\u001b[0;34m\u001b[0m\u001b[0m\n\u001b[0m",
            "\u001b[0;31mAttributeError\u001b[0m: 'tuple' object has no attribute 'append'"
          ]
        }
      ],
      "source": [
        "T.append(4)"
      ]
    },
    {
      "cell_type": "markdown",
      "metadata": {
        "id": "RFZXCXb1eJ33"
      },
      "source": [
        "## Sets"
      ]
    },
    {
      "cell_type": "markdown",
      "metadata": {
        "id": "arU6iT39eJ33"
      },
      "source": [
        "The set— an **ordered** and **non-repeting** collection of  **immutable** objects that supports operations corresponding to mathematical set theory. By definition, an item appears only once in a set, no matter how many times it is added. Accordingly, sets have a variety of applications, especially in numeric and database-focused work. a set acts much like the keys of a valueless dictionary, but it supports extra operations."
      ]
    },
    {
      "cell_type": "code",
      "execution_count": 79,
      "metadata": {
        "id": "fUBQJ7iKeJ33"
      },
      "outputs": [],
      "source": [
        "# define a set\n",
        "S = {'s', 'p', 'a', 'm'}"
      ]
    },
    {
      "cell_type": "code",
      "execution_count": 80,
      "metadata": {
        "colab": {
          "base_uri": "https://localhost:8080/",
          "height": 0
        },
        "id": "vQURfRWzeJ34",
        "outputId": "2f001bc4-af43-4649-9236-b5999551c694"
      },
      "outputs": [
        {
          "output_type": "execute_result",
          "data": {
            "text/plain": [
              "{'a', 'm', 'p', 's'}"
            ]
          },
          "metadata": {},
          "execution_count": 80
        }
      ],
      "source": [
        "S"
      ]
    },
    {
      "cell_type": "code",
      "execution_count": 81,
      "metadata": {
        "id": "e0VHx34peJ34"
      },
      "outputs": [],
      "source": [
        "S.add('alot')"
      ]
    },
    {
      "cell_type": "code",
      "execution_count": 82,
      "metadata": {
        "colab": {
          "base_uri": "https://localhost:8080/",
          "height": 0
        },
        "id": "c7Eri7TbeJ34",
        "outputId": "48b83d77-2db0-4d17-d927-4dddc3b382f6"
      },
      "outputs": [
        {
          "output_type": "execute_result",
          "data": {
            "text/plain": [
              "{'a', 'alot', 'm', 'p', 's'}"
            ]
          },
          "metadata": {},
          "execution_count": 82
        }
      ],
      "source": [
        "S"
      ]
    },
    {
      "cell_type": "code",
      "execution_count": 83,
      "metadata": {
        "colab": {
          "base_uri": "https://localhost:8080/",
          "height": 0
        },
        "id": "HgeRAnBpeJ34",
        "outputId": "abc2e8a5-2b4a-484f-d1bf-a8717d6c8a5c"
      },
      "outputs": [
        {
          "output_type": "execute_result",
          "data": {
            "text/plain": [
              "{1, 2, 3, 4}"
            ]
          },
          "metadata": {},
          "execution_count": 83
        }
      ],
      "source": [
        "# the elements of set are non-repeting\n",
        "S1 = {1, 2, 3, 4, 4}\n",
        "S1"
      ]
    },
    {
      "cell_type": "code",
      "execution_count": 84,
      "metadata": {
        "colab": {
          "base_uri": "https://localhost:8080/",
          "height": 0
        },
        "id": "smIS82f1eJ35",
        "outputId": "61829d26-702d-4d22-b5ba-d970268a6aea"
      },
      "outputs": [
        {
          "output_type": "execute_result",
          "data": {
            "text/plain": [
              "{1, 3}"
            ]
          },
          "metadata": {},
          "execution_count": 84
        }
      ],
      "source": [
        "# Intersection\n",
        "S1 & {1, 3}"
      ]
    },
    {
      "cell_type": "code",
      "execution_count": 85,
      "metadata": {
        "colab": {
          "base_uri": "https://localhost:8080/",
          "height": 0
        },
        "id": "ibzukR4AeJ35",
        "outputId": "90512b61-b86d-4953-aa45-43f7f6bab7b2"
      },
      "outputs": [
        {
          "output_type": "execute_result",
          "data": {
            "text/plain": [
              "{1, 2, 3, 4, 5, 6}"
            ]
          },
          "metadata": {},
          "execution_count": 85
        }
      ],
      "source": [
        "# Union\n",
        "{1, 5, 3, 6} | S1"
      ]
    },
    {
      "cell_type": "code",
      "execution_count": 86,
      "metadata": {
        "colab": {
          "base_uri": "https://localhost:8080/",
          "height": 0
        },
        "id": "9iD5oamceJ35",
        "outputId": "21083c8b-a2e4-449f-bfb0-6377a4bcf358"
      },
      "outputs": [
        {
          "output_type": "execute_result",
          "data": {
            "text/plain": [
              "{2}"
            ]
          },
          "metadata": {},
          "execution_count": 86
        }
      ],
      "source": [
        "# Difference\n",
        "S1 - {1, 3, 4}"
      ]
    },
    {
      "cell_type": "code",
      "execution_count": 87,
      "metadata": {
        "colab": {
          "base_uri": "https://localhost:8080/",
          "height": 0
        },
        "id": "HN9koh_EeJ35",
        "outputId": "4cff152b-090c-47cd-f2ab-1b98ef9214d0"
      },
      "outputs": [
        {
          "output_type": "execute_result",
          "data": {
            "text/plain": [
              "True"
            ]
          },
          "metadata": {},
          "execution_count": 87
        }
      ],
      "source": [
        "# super set\n",
        "S1 > {1, 3}"
      ]
    },
    {
      "cell_type": "markdown",
      "metadata": {
        "id": "Ne81LENPeJ35"
      },
      "source": [
        "Sets can only contain **immutable** (a.k.a. “hashable”) object types. Hence, lists and dictionaries cannot be embedded in sets, but tuples can if you need to store compound values."
      ]
    },
    {
      "cell_type": "code",
      "execution_count": 88,
      "metadata": {
        "id": "lSqZ11CxeJ36"
      },
      "outputs": [],
      "source": [
        "S = set()\n",
        "S.add(1.23)"
      ]
    },
    {
      "cell_type": "code",
      "execution_count": 89,
      "metadata": {
        "colab": {
          "base_uri": "https://localhost:8080/",
          "height": 0
        },
        "id": "XYv_TirTeJ36",
        "outputId": "8af768e4-da31-40b1-8f87-20571532607f"
      },
      "outputs": [
        {
          "output_type": "execute_result",
          "data": {
            "text/plain": [
              "{1.23}"
            ]
          },
          "metadata": {},
          "execution_count": 89
        }
      ],
      "source": [
        "S"
      ]
    },
    {
      "cell_type": "code",
      "execution_count": 90,
      "metadata": {
        "colab": {
          "base_uri": "https://localhost:8080/",
          "height": 193
        },
        "id": "6qkBZnOVeJ36",
        "outputId": "dd51f44c-72fc-40ad-997c-31890264972a"
      },
      "outputs": [
        {
          "output_type": "error",
          "ename": "TypeError",
          "evalue": "unhashable type: 'list'",
          "traceback": [
            "\u001b[0;31m---------------------------------------------------------------------------\u001b[0m",
            "\u001b[0;31mTypeError\u001b[0m                                 Traceback (most recent call last)",
            "\u001b[0;32m<ipython-input-90-b5bfab50666b>\u001b[0m in \u001b[0;36m<cell line: 2>\u001b[0;34m()\u001b[0m\n\u001b[1;32m      1\u001b[0m \u001b[0;31m# Only immutable objects work in a set\u001b[0m\u001b[0;34m\u001b[0m\u001b[0;34m\u001b[0m\u001b[0m\n\u001b[0;32m----> 2\u001b[0;31m \u001b[0mS\u001b[0m\u001b[0;34m.\u001b[0m\u001b[0madd\u001b[0m\u001b[0;34m(\u001b[0m\u001b[0;34m[\u001b[0m\u001b[0;36m1\u001b[0m\u001b[0;34m,\u001b[0m \u001b[0;36m2\u001b[0m\u001b[0;34m,\u001b[0m \u001b[0;36m3\u001b[0m\u001b[0;34m]\u001b[0m\u001b[0;34m)\u001b[0m\u001b[0;34m\u001b[0m\u001b[0;34m\u001b[0m\u001b[0m\n\u001b[0m",
            "\u001b[0;31mTypeError\u001b[0m: unhashable type: 'list'"
          ]
        }
      ],
      "source": [
        "# Only immutable objects work in a set\n",
        "S.add([1, 2, 3])"
      ]
    },
    {
      "cell_type": "code",
      "execution_count": 91,
      "metadata": {
        "colab": {
          "base_uri": "https://localhost:8080/",
          "height": 175
        },
        "id": "8GARSZp1eJ36",
        "outputId": "6a69ae93-26eb-4fc1-fb7e-91d8886cf041"
      },
      "outputs": [
        {
          "output_type": "error",
          "ename": "TypeError",
          "evalue": "unhashable type: 'dict'",
          "traceback": [
            "\u001b[0;31m---------------------------------------------------------------------------\u001b[0m",
            "\u001b[0;31mTypeError\u001b[0m                                 Traceback (most recent call last)",
            "\u001b[0;32m<ipython-input-91-ecf45c43dc25>\u001b[0m in \u001b[0;36m<cell line: 1>\u001b[0;34m()\u001b[0m\n\u001b[0;32m----> 1\u001b[0;31m \u001b[0mS\u001b[0m\u001b[0;34m.\u001b[0m\u001b[0madd\u001b[0m\u001b[0;34m(\u001b[0m\u001b[0;34m{\u001b[0m\u001b[0;34m'a'\u001b[0m\u001b[0;34m:\u001b[0m\u001b[0;36m1\u001b[0m\u001b[0;34m}\u001b[0m\u001b[0;34m)\u001b[0m\u001b[0;34m\u001b[0m\u001b[0;34m\u001b[0m\u001b[0m\n\u001b[0m",
            "\u001b[0;31mTypeError\u001b[0m: unhashable type: 'dict'"
          ]
        }
      ],
      "source": [
        "S.add({'a':1})"
      ]
    },
    {
      "cell_type": "code",
      "execution_count": 92,
      "metadata": {
        "id": "z6hBb6u5eJ36"
      },
      "outputs": [],
      "source": [
        "S.add((1, 2, 3))"
      ]
    },
    {
      "cell_type": "code",
      "execution_count": 93,
      "metadata": {
        "colab": {
          "base_uri": "https://localhost:8080/",
          "height": 0
        },
        "id": "aIspjQ79eJ36",
        "outputId": "9fe6c2a6-6d79-4123-9ec4-2a6daa348bb0"
      },
      "outputs": [
        {
          "output_type": "execute_result",
          "data": {
            "text/plain": [
              "{(1, 2, 3), 1.23}"
            ]
          },
          "metadata": {},
          "execution_count": 93
        }
      ],
      "source": [
        "# No list or dict, but tuple OK\n",
        "S"
      ]
    },
    {
      "cell_type": "code",
      "execution_count": 94,
      "metadata": {
        "colab": {
          "base_uri": "https://localhost:8080/",
          "height": 0
        },
        "id": "j7s00q2OeJ37",
        "outputId": "9663ca57-df72-400c-e01c-457dbeff85c5"
      },
      "outputs": [
        {
          "output_type": "execute_result",
          "data": {
            "text/plain": [
              "{(1, 2, 3), (4, 5, 6), 1.23}"
            ]
          },
          "metadata": {},
          "execution_count": 94
        }
      ],
      "source": [
        "# Union: same as S.union(...)\n",
        "S | {(4, 5, 6), (1, 2, 3)}"
      ]
    },
    {
      "cell_type": "code",
      "execution_count": 95,
      "metadata": {
        "scrolled": true,
        "colab": {
          "base_uri": "https://localhost:8080/",
          "height": 175
        },
        "id": "UYnW9poUeJ37",
        "outputId": "7d4bdf2d-33ff-46d4-e904-e1129392a5a5"
      },
      "outputs": [
        {
          "output_type": "error",
          "ename": "TypeError",
          "evalue": "unhashable type: 'list'",
          "traceback": [
            "\u001b[0;31m---------------------------------------------------------------------------\u001b[0m",
            "\u001b[0;31mTypeError\u001b[0m                                 Traceback (most recent call last)",
            "\u001b[0;32m<ipython-input-95-2cba7ca41a77>\u001b[0m in \u001b[0;36m<cell line: 1>\u001b[0;34m()\u001b[0m\n\u001b[0;32m----> 1\u001b[0;31m \u001b[0mS\u001b[0m\u001b[0;34m.\u001b[0m\u001b[0madd\u001b[0m\u001b[0;34m(\u001b[0m\u001b[0;34m(\u001b[0m\u001b[0;34m[\u001b[0m\u001b[0;36m1\u001b[0m\u001b[0;34m,\u001b[0m\u001b[0;36m2\u001b[0m\u001b[0;34m]\u001b[0m\u001b[0;34m,\u001b[0m \u001b[0;34m\"ab\"\u001b[0m\u001b[0;34m)\u001b[0m\u001b[0;34m)\u001b[0m\u001b[0;34m\u001b[0m\u001b[0;34m\u001b[0m\u001b[0m\n\u001b[0m",
            "\u001b[0;31mTypeError\u001b[0m: unhashable type: 'list'"
          ]
        }
      ],
      "source": [
        "S.add(([1,2], \"ab\"))"
      ]
    },
    {
      "cell_type": "code",
      "execution_count": 96,
      "metadata": {
        "colab": {
          "base_uri": "https://localhost:8080/",
          "height": 0
        },
        "id": "RhFnC5oUeJ37",
        "outputId": "86949bad-9ffb-431a-ecb9-2871ee6ebd5a"
      },
      "outputs": [
        {
          "output_type": "execute_result",
          "data": {
            "text/plain": [
              "{(1, 2, 3), 1.23}"
            ]
          },
          "metadata": {},
          "execution_count": 96
        }
      ],
      "source": [
        "S"
      ]
    },
    {
      "cell_type": "code",
      "execution_count": 97,
      "metadata": {
        "colab": {
          "base_uri": "https://localhost:8080/",
          "height": 0
        },
        "id": "64NmDVMOeJ37",
        "outputId": "41ec17e1-4cd8-4b8c-cc20-61b2899feee2"
      },
      "outputs": [
        {
          "output_type": "execute_result",
          "data": {
            "text/plain": [
              "True"
            ]
          },
          "metadata": {},
          "execution_count": 97
        }
      ],
      "source": [
        "# Membership: by complete values\n",
        "(1, 2, 3) in S"
      ]
    },
    {
      "cell_type": "code",
      "execution_count": 98,
      "metadata": {
        "colab": {
          "base_uri": "https://localhost:8080/",
          "height": 0
        },
        "id": "NwokkRVXeJ37",
        "outputId": "20329116-c2a6-4401-bce3-880dd3d4c967"
      },
      "outputs": [
        {
          "output_type": "execute_result",
          "data": {
            "text/plain": [
              "False"
            ]
          },
          "metadata": {},
          "execution_count": 98
        }
      ],
      "source": [
        "(1, 4, 3) in S"
      ]
    },
    {
      "cell_type": "code",
      "execution_count": 99,
      "metadata": {
        "colab": {
          "base_uri": "https://localhost:8080/",
          "height": 0
        },
        "id": "gpNoCvfieJ37",
        "outputId": "1dc14e87-6489-4032-88bb-e606c83233fd"
      },
      "outputs": [
        {
          "output_type": "execute_result",
          "data": {
            "text/plain": [
              "{1, 4, 9, 16}"
            ]
          },
          "metadata": {},
          "execution_count": 99
        }
      ],
      "source": [
        "# Set comprehension\n",
        "{x ** 2 for x in [1, 2, 3, 4, 4]}"
      ]
    },
    {
      "cell_type": "markdown",
      "metadata": {
        "id": "HlsGitGXeJ37"
      },
      "source": [
        "## 2. Python Statements"
      ]
    },
    {
      "cell_type": "markdown",
      "metadata": {
        "id": "zSwwOPcveJ37"
      },
      "source": [
        "The general form of an ``if`` statement looks like this:"
      ]
    },
    {
      "cell_type": "raw",
      "metadata": {
        "id": "MPqTc-ZQeJ38"
      },
      "source": [
        "if test1:              # if test\n",
        "    statement1         # associated block\n",
        "elif test2:            # Optional elifs\n",
        "    statements2\n",
        "else:\n",
        "    statements3        # Optional else"
      ]
    },
    {
      "cell_type": "code",
      "execution_count": 100,
      "metadata": {
        "colab": {
          "base_uri": "https://localhost:8080/",
          "height": 0
        },
        "id": "_lQZZJyoeJ38",
        "outputId": "23a9a8d2-912e-46f9-e34e-bd7b0b313d32"
      },
      "outputs": [
        {
          "output_type": "stream",
          "name": "stdout",
          "text": [
            "-11\n"
          ]
        }
      ],
      "source": [
        "# Use if to write a piecewise function\n",
        "\n",
        "x = -11\n",
        "\n",
        "\n",
        "if x > 0:\n",
        "    print (x*2)\n",
        "elif x > -10:\n",
        "    print (-x)\n",
        "else:\n",
        "    print (x)"
      ]
    },
    {
      "cell_type": "markdown",
      "metadata": {
        "id": "TKuSKKSjeJ38"
      },
      "source": [
        "``While`` loop"
      ]
    },
    {
      "cell_type": "raw",
      "metadata": {
        "id": "u0srow6MeJ38"
      },
      "source": [
        "While test:\n",
        "    statements"
      ]
    },
    {
      "cell_type": "code",
      "execution_count": 101,
      "metadata": {
        "colab": {
          "base_uri": "https://localhost:8080/",
          "height": 0
        },
        "id": "UQF3RPL8eJ38",
        "outputId": "03f611ed-ce09-4b88-9b04-853e392934e2"
      },
      "outputs": [
        {
          "output_type": "stream",
          "name": "stdout",
          "text": [
            "4\n",
            "2\n",
            "0\n"
          ]
        }
      ],
      "source": [
        "x = 6\n",
        "\n",
        "while x:\n",
        "    x = x-1\n",
        "    if x % 2 != 0: continue\n",
        "    print(x)"
      ]
    },
    {
      "cell_type": "markdown",
      "metadata": {
        "id": "UM0DkwI7eJ39"
      },
      "source": [
        "``for`` loop"
      ]
    },
    {
      "cell_type": "raw",
      "metadata": {
        "id": "eUSk_v6teJ39"
      },
      "source": [
        "for target in object:\n",
        "    statements"
      ]
    },
    {
      "cell_type": "code",
      "execution_count": 102,
      "metadata": {
        "colab": {
          "base_uri": "https://localhost:8080/",
          "height": 0
        },
        "id": "cXDybbGFeJ39",
        "outputId": "ee1c7142-ba8c-4928-eda4-489cb039fbbb"
      },
      "outputs": [
        {
          "output_type": "execute_result",
          "data": {
            "text/plain": [
              "10"
            ]
          },
          "metadata": {},
          "execution_count": 102
        }
      ],
      "source": [
        "total = 0\n",
        "\n",
        "for x in [1, 2, 3, 4]:\n",
        "    total += x\n",
        "\n",
        "total"
      ]
    },
    {
      "cell_type": "markdown",
      "metadata": {
        "id": "523MqXEzeJ39"
      },
      "source": [
        "### def Statements (Functions)"
      ]
    },
    {
      "cell_type": "markdown",
      "metadata": {
        "id": "romJST1JeJ39"
      },
      "source": [
        "The ``def`` statement creates a function object and assigns it to a name."
      ]
    },
    {
      "cell_type": "raw",
      "metadata": {
        "id": "ODseAouveJ39"
      },
      "source": [
        "def name(arg1, arg2, ..., argN):\n",
        "    statements"
      ]
    },
    {
      "cell_type": "markdown",
      "metadata": {
        "id": "UzarbdVCeJ3-"
      },
      "source": [
        "Function bodies often contain a ``return`` statement."
      ]
    },
    {
      "cell_type": "raw",
      "metadata": {
        "id": "L0K9WFRyeJ3-"
      },
      "source": [
        "def name(arg1, arg2, ..., argN):\n",
        "    ...\n",
        "    return value"
      ]
    },
    {
      "cell_type": "markdown",
      "metadata": {
        "id": "VZFMjBxWeJ3-"
      },
      "source": [
        "**Definition**"
      ]
    },
    {
      "cell_type": "code",
      "execution_count": 103,
      "metadata": {
        "id": "TDS-w9FHeJ3-"
      },
      "outputs": [],
      "source": [
        "def times(x, y):   # Create and assign function\n",
        "    return x * y   # Body executed when called"
      ]
    },
    {
      "cell_type": "markdown",
      "metadata": {
        "id": "wZE_3I-FeJ3-"
      },
      "source": [
        "**Calls**"
      ]
    },
    {
      "cell_type": "code",
      "execution_count": 104,
      "metadata": {
        "colab": {
          "base_uri": "https://localhost:8080/",
          "height": 0
        },
        "id": "-hooeCFneJ3-",
        "outputId": "621f03c0-9a66-41fa-ec4f-5452b75f1871"
      },
      "outputs": [
        {
          "output_type": "execute_result",
          "data": {
            "text/plain": [
              "8"
            ]
          },
          "metadata": {},
          "execution_count": 104
        }
      ],
      "source": [
        "times(2, 4)"
      ]
    },
    {
      "cell_type": "code",
      "execution_count": 105,
      "metadata": {
        "colab": {
          "base_uri": "https://localhost:8080/",
          "height": 0
        },
        "id": "9Pmg1X0LeJ3-",
        "outputId": "dea83bc0-4a54-41d9-ad5d-7d12bf566fd8"
      },
      "outputs": [
        {
          "output_type": "execute_result",
          "data": {
            "text/plain": [
              "12.56"
            ]
          },
          "metadata": {},
          "execution_count": 105
        }
      ],
      "source": [
        "output = times(3.14, 4)  # Save the result object\n",
        "output"
      ]
    },
    {
      "cell_type": "markdown",
      "metadata": {
        "id": "CcY52_2BeJ3_"
      },
      "source": [
        "Let’s look at a second function example that does something a bit more useful."
      ]
    },
    {
      "cell_type": "code",
      "execution_count": 106,
      "metadata": {
        "id": "4-PTJjHTeJ3_"
      },
      "outputs": [],
      "source": [
        "def func(seq1, seq2):\n",
        "    res = []               # Start empty\n",
        "    for x in seq1:         # Scan seq1\n",
        "        if x in seq2:      # Common item?\n",
        "            res.append(x)  # Add to end\n",
        "    return res"
      ]
    },
    {
      "cell_type": "code",
      "execution_count": 107,
      "metadata": {
        "colab": {
          "base_uri": "https://localhost:8080/",
          "height": 0
        },
        "id": "pGfOR9m2eJ3_",
        "outputId": "6cea15e9-4ee6-4e51-8bb7-6389e05cc000"
      },
      "outputs": [
        {
          "output_type": "execute_result",
          "data": {
            "text/plain": [
              "['S', 'A', 'M']"
            ]
          },
          "metadata": {},
          "execution_count": 107
        }
      ],
      "source": [
        "s1 = \"SPAM\"\n",
        "s2 = \"SCAM\"\n",
        "\n",
        "func(s1, s2)"
      ]
    }
  ],
  "metadata": {
    "kernelspec": {
      "display_name": "Python 3 (ipykernel)",
      "language": "python",
      "name": "python3"
    },
    "language_info": {
      "codemirror_mode": {
        "name": "ipython",
        "version": 3
      },
      "file_extension": ".py",
      "mimetype": "text/x-python",
      "name": "python",
      "nbconvert_exporter": "python",
      "pygments_lexer": "ipython3",
      "version": "3.9.13"
    },
    "colab": {
      "provenance": [],
      "include_colab_link": true
    }
  },
  "nbformat": 4,
  "nbformat_minor": 0
}